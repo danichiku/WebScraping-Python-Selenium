{
 "cells": [
  {
   "cell_type": "code",
   "execution_count": 1,
   "id": "821b84f3",
   "metadata": {},
   "outputs": [],
   "source": [
    "from selenium import webdriver\n",
    "from selenium.webdriver.common.keys import Keys\n",
    "\n",
    "# para abrir o navegador\n",
    "navegador = webdriver.Chrome()\n",
    "\n",
    "#from selenium.webdriver.chorme.options import Options\n",
    "#chrome_options = Options()\n",
    "#chorme_options.headsless = True # also works\n",
    "#nav = webdriver.Chrome(options=chrome_options)\n"
   ]
  },
  {
   "cell_type": "code",
   "execution_count": 2,
   "id": "55efce2d",
   "metadata": {},
   "outputs": [
    {
     "name": "stderr",
     "output_type": "stream",
     "text": [
      "<ipython-input-2-1b8617dda915>:4: DeprecationWarning: find_element_by_* commands are deprecated. Please use find_element() instead\n",
      "  navegador.find_element_by_xpath('/html/body/div[1]/div[3]/form/div[1]/div[1]/div[1]/div/div[2]/input').send_keys(\"cotação do dólar\")\n",
      "<ipython-input-2-1b8617dda915>:5: DeprecationWarning: find_element_by_* commands are deprecated. Please use find_element() instead\n",
      "  navegador.find_element_by_xpath('/html/body/div[1]/div[3]/form/div[1]/div[1]/div[1]/div/div[2]/input').send_keys(Keys.ENTER)\n"
     ]
    },
    {
     "name": "stdout",
     "output_type": "stream",
     "text": [
      "5.5584\n"
     ]
    },
    {
     "name": "stderr",
     "output_type": "stream",
     "text": [
      "<ipython-input-2-1b8617dda915>:8: DeprecationWarning: find_element_by_* commands are deprecated. Please use find_element() instead\n",
      "  cotacao_dolar = navegador.find_element_by_xpath('//*[@id=\"knowledge-currency__updatable-data-column\"]/div[1]/div[2]/span[1]').get_attribute(\"data-value\")\n"
     ]
    }
   ],
   "source": [
    "# pesquisar no google cotação dólar\n",
    "# pegar a cotação do dólar\n",
    "navegador.get(\"https://www.google.com.br/\")\n",
    "navegador.find_element_by_xpath('/html/body/div[1]/div[3]/form/div[1]/div[1]/div[1]/div/div[2]/input').send_keys(\"cotação do dólar\")\n",
    "navegador.find_element_by_xpath('/html/body/div[1]/div[3]/form/div[1]/div[1]/div[1]/div/div[2]/input').send_keys(Keys.ENTER)\n",
    "\n",
    "# pegando o valor da busca do google\n",
    "cotacao_dolar = navegador.find_element_by_xpath('//*[@id=\"knowledge-currency__updatable-data-column\"]/div[1]/div[2]/span[1]').get_attribute(\"data-value\")\n",
    "print(cotacao_dolar)"
   ]
  },
  {
   "cell_type": "code",
   "execution_count": 3,
   "id": "215f20e1",
   "metadata": {},
   "outputs": [
    {
     "name": "stderr",
     "output_type": "stream",
     "text": [
      "<ipython-input-3-8f4e624b01e8>:4: DeprecationWarning: find_element_by_* commands are deprecated. Please use find_element() instead\n",
      "  navegador.find_element_by_xpath('/html/body/div[1]/div[3]/form/div[1]/div[1]/div[1]/div/div[2]/input').send_keys(\"cotação do euro\")\n",
      "<ipython-input-3-8f4e624b01e8>:5: DeprecationWarning: find_element_by_* commands are deprecated. Please use find_element() instead\n",
      "  navegador.find_element_by_xpath('/html/body/div[1]/div[3]/form/div[1]/div[1]/div[1]/div/div[2]/input').send_keys(Keys.ENTER)\n"
     ]
    },
    {
     "name": "stdout",
     "output_type": "stream",
     "text": [
      "6.311285280000001\n"
     ]
    },
    {
     "name": "stderr",
     "output_type": "stream",
     "text": [
      "<ipython-input-3-8f4e624b01e8>:8: DeprecationWarning: find_element_by_* commands are deprecated. Please use find_element() instead\n",
      "  cotacao_euro = navegador.find_element_by_xpath('//*[@id=\"knowledge-currency__updatable-data-column\"]/div[1]/div[2]/span[1]').get_attribute(\"data-value\")\n"
     ]
    }
   ],
   "source": [
    "# pesquisar no google cotação do euro\n",
    "# pegar a cotação do euro\n",
    "navegador.get(\"https://www.google.com.br/\")\n",
    "navegador.find_element_by_xpath('/html/body/div[1]/div[3]/form/div[1]/div[1]/div[1]/div/div[2]/input').send_keys(\"cotação do euro\")\n",
    "navegador.find_element_by_xpath('/html/body/div[1]/div[3]/form/div[1]/div[1]/div[1]/div/div[2]/input').send_keys(Keys.ENTER)\n",
    "\n",
    "# pegando o valor da busca do google\n",
    "cotacao_euro = navegador.find_element_by_xpath('//*[@id=\"knowledge-currency__updatable-data-column\"]/div[1]/div[2]/span[1]').get_attribute(\"data-value\")\n",
    "print(cotacao_euro)"
   ]
  },
  {
   "cell_type": "code",
   "execution_count": 4,
   "id": "bb1411cb",
   "metadata": {},
   "outputs": [
    {
     "name": "stdout",
     "output_type": "stream",
     "text": [
      "332.48\n"
     ]
    },
    {
     "name": "stderr",
     "output_type": "stream",
     "text": [
      "<ipython-input-4-d4cd92cb2e8f>:6: DeprecationWarning: find_element_by_* commands are deprecated. Please use find_element() instead\n",
      "  cotacao_ouro = navegador.find_element_by_xpath('//*[@id=\"comercial\"]').get_attribute(\"value\")\n"
     ]
    }
   ],
   "source": [
    "# entrar no site melhor câmbio\n",
    "# pegar a cotação de o ouro\n",
    "\n",
    "site = ('https://www.melhorcambio.com/ouro-hoje')\n",
    "navegador.get(site)\n",
    "cotacao_ouro = navegador.find_element_by_xpath('//*[@id=\"comercial\"]').get_attribute(\"value\")\n",
    "cotacao_ouro = cotacao_ouro.replace(\",\",\".\")\n",
    "print(cotacao_ouro)"
   ]
  },
  {
   "cell_type": "code",
   "execution_count": 5,
   "id": "6a5d3efd",
   "metadata": {},
   "outputs": [],
   "source": [
    "#navegador.find_element_by_xpath('//*[@id=\"active\"]').click()\n",
    "#import time\n",
    "#time.sleep(1)"
   ]
  },
  {
   "cell_type": "code",
   "execution_count": 6,
   "id": "a65e9c30",
   "metadata": {},
   "outputs": [
    {
     "data": {
      "text/html": [
       "<div>\n",
       "<style scoped>\n",
       "    .dataframe tbody tr th:only-of-type {\n",
       "        vertical-align: middle;\n",
       "    }\n",
       "\n",
       "    .dataframe tbody tr th {\n",
       "        vertical-align: top;\n",
       "    }\n",
       "\n",
       "    .dataframe thead th {\n",
       "        text-align: right;\n",
       "    }\n",
       "</style>\n",
       "<table border=\"1\" class=\"dataframe\">\n",
       "  <thead>\n",
       "    <tr style=\"text-align: right;\">\n",
       "      <th></th>\n",
       "      <th>Produtos</th>\n",
       "      <th>Preço Base Original</th>\n",
       "      <th>Moeda</th>\n",
       "      <th>Cotação</th>\n",
       "      <th>Preço Base Reais</th>\n",
       "      <th>Ajuste</th>\n",
       "      <th>Preço Final</th>\n",
       "    </tr>\n",
       "  </thead>\n",
       "  <tbody>\n",
       "    <tr>\n",
       "      <th>0</th>\n",
       "      <td>Câmera Canon</td>\n",
       "      <td>999.99</td>\n",
       "      <td>Dólar</td>\n",
       "      <td>5</td>\n",
       "      <td>4999.95</td>\n",
       "      <td>1.40</td>\n",
       "      <td>6999.930</td>\n",
       "    </tr>\n",
       "    <tr>\n",
       "      <th>1</th>\n",
       "      <td>Carro Renault</td>\n",
       "      <td>4500.00</td>\n",
       "      <td>Euro</td>\n",
       "      <td>6</td>\n",
       "      <td>27000.00</td>\n",
       "      <td>2.00</td>\n",
       "      <td>54000.000</td>\n",
       "    </tr>\n",
       "    <tr>\n",
       "      <th>2</th>\n",
       "      <td>Notebook Dell</td>\n",
       "      <td>899.99</td>\n",
       "      <td>Dólar</td>\n",
       "      <td>5</td>\n",
       "      <td>4499.95</td>\n",
       "      <td>1.70</td>\n",
       "      <td>7649.915</td>\n",
       "    </tr>\n",
       "    <tr>\n",
       "      <th>3</th>\n",
       "      <td>Iphone</td>\n",
       "      <td>799.00</td>\n",
       "      <td>Dólar</td>\n",
       "      <td>5</td>\n",
       "      <td>3995.00</td>\n",
       "      <td>1.70</td>\n",
       "      <td>6791.500</td>\n",
       "    </tr>\n",
       "    <tr>\n",
       "      <th>4</th>\n",
       "      <td>Carro Fiat</td>\n",
       "      <td>3000.00</td>\n",
       "      <td>Euro</td>\n",
       "      <td>6</td>\n",
       "      <td>18000.00</td>\n",
       "      <td>1.90</td>\n",
       "      <td>34200.000</td>\n",
       "    </tr>\n",
       "    <tr>\n",
       "      <th>5</th>\n",
       "      <td>Celular Xiaomi</td>\n",
       "      <td>480.48</td>\n",
       "      <td>Dólar</td>\n",
       "      <td>5</td>\n",
       "      <td>2402.40</td>\n",
       "      <td>2.00</td>\n",
       "      <td>4804.800</td>\n",
       "    </tr>\n",
       "    <tr>\n",
       "      <th>6</th>\n",
       "      <td>Joia 20g</td>\n",
       "      <td>20.00</td>\n",
       "      <td>Ouro</td>\n",
       "      <td>3550</td>\n",
       "      <td>7000.00</td>\n",
       "      <td>1.15</td>\n",
       "      <td>8050.000</td>\n",
       "    </tr>\n",
       "  </tbody>\n",
       "</table>\n",
       "</div>"
      ],
      "text/plain": [
       "         Produtos  Preço Base Original  Moeda  Cotação  Preço Base Reais  \\\n",
       "0    Câmera Canon               999.99  Dólar        5           4999.95   \n",
       "1   Carro Renault              4500.00   Euro        6          27000.00   \n",
       "2   Notebook Dell               899.99  Dólar        5           4499.95   \n",
       "3          Iphone               799.00  Dólar        5           3995.00   \n",
       "4      Carro Fiat              3000.00   Euro        6          18000.00   \n",
       "5  Celular Xiaomi               480.48  Dólar        5           2402.40   \n",
       "6        Joia 20g                20.00   Ouro     3550           7000.00   \n",
       "\n",
       "   Ajuste  Preço Final  \n",
       "0    1.40     6999.930  \n",
       "1    2.00    54000.000  \n",
       "2    1.70     7649.915  \n",
       "3    1.70     6791.500  \n",
       "4    1.90    34200.000  \n",
       "5    2.00     4804.800  \n",
       "6    1.15     8050.000  "
      ]
     },
     "metadata": {},
     "output_type": "display_data"
    }
   ],
   "source": [
    "import pandas as pd\n",
    "\n",
    "tabela_produtos = pd.read_excel(\"Produtos.xlsx\")\n",
    "display(tabela_produtos)"
   ]
  },
  {
   "cell_type": "code",
   "execution_count": 7,
   "id": "6b1bae5c",
   "metadata": {},
   "outputs": [
    {
     "data": {
      "text/html": [
       "<div>\n",
       "<style scoped>\n",
       "    .dataframe tbody tr th:only-of-type {\n",
       "        vertical-align: middle;\n",
       "    }\n",
       "\n",
       "    .dataframe tbody tr th {\n",
       "        vertical-align: top;\n",
       "    }\n",
       "\n",
       "    .dataframe thead th {\n",
       "        text-align: right;\n",
       "    }\n",
       "</style>\n",
       "<table border=\"1\" class=\"dataframe\">\n",
       "  <thead>\n",
       "    <tr style=\"text-align: right;\">\n",
       "      <th></th>\n",
       "      <th>Produtos</th>\n",
       "      <th>Preço Base Original</th>\n",
       "      <th>Moeda</th>\n",
       "      <th>Cotação</th>\n",
       "      <th>Preço Base Reais</th>\n",
       "      <th>Ajuste</th>\n",
       "      <th>Preço Final</th>\n",
       "    </tr>\n",
       "  </thead>\n",
       "  <tbody>\n",
       "    <tr>\n",
       "      <th>0</th>\n",
       "      <td>Câmera Canon</td>\n",
       "      <td>999.99</td>\n",
       "      <td>Dólar</td>\n",
       "      <td>5.5584</td>\n",
       "      <td>4999.95</td>\n",
       "      <td>1.40</td>\n",
       "      <td>6999.930</td>\n",
       "    </tr>\n",
       "    <tr>\n",
       "      <th>1</th>\n",
       "      <td>Carro Renault</td>\n",
       "      <td>4500.00</td>\n",
       "      <td>Euro</td>\n",
       "      <td>6.0000</td>\n",
       "      <td>27000.00</td>\n",
       "      <td>2.00</td>\n",
       "      <td>54000.000</td>\n",
       "    </tr>\n",
       "    <tr>\n",
       "      <th>2</th>\n",
       "      <td>Notebook Dell</td>\n",
       "      <td>899.99</td>\n",
       "      <td>Dólar</td>\n",
       "      <td>5.5584</td>\n",
       "      <td>4499.95</td>\n",
       "      <td>1.70</td>\n",
       "      <td>7649.915</td>\n",
       "    </tr>\n",
       "    <tr>\n",
       "      <th>3</th>\n",
       "      <td>Iphone</td>\n",
       "      <td>799.00</td>\n",
       "      <td>Dólar</td>\n",
       "      <td>5.5584</td>\n",
       "      <td>3995.00</td>\n",
       "      <td>1.70</td>\n",
       "      <td>6791.500</td>\n",
       "    </tr>\n",
       "    <tr>\n",
       "      <th>4</th>\n",
       "      <td>Carro Fiat</td>\n",
       "      <td>3000.00</td>\n",
       "      <td>Euro</td>\n",
       "      <td>6.0000</td>\n",
       "      <td>18000.00</td>\n",
       "      <td>1.90</td>\n",
       "      <td>34200.000</td>\n",
       "    </tr>\n",
       "    <tr>\n",
       "      <th>5</th>\n",
       "      <td>Celular Xiaomi</td>\n",
       "      <td>480.48</td>\n",
       "      <td>Dólar</td>\n",
       "      <td>5.5584</td>\n",
       "      <td>2402.40</td>\n",
       "      <td>2.00</td>\n",
       "      <td>4804.800</td>\n",
       "    </tr>\n",
       "    <tr>\n",
       "      <th>6</th>\n",
       "      <td>Joia 20g</td>\n",
       "      <td>20.00</td>\n",
       "      <td>Ouro</td>\n",
       "      <td>3550.0000</td>\n",
       "      <td>7000.00</td>\n",
       "      <td>1.15</td>\n",
       "      <td>8050.000</td>\n",
       "    </tr>\n",
       "  </tbody>\n",
       "</table>\n",
       "</div>"
      ],
      "text/plain": [
       "         Produtos  Preço Base Original  Moeda    Cotação  Preço Base Reais  \\\n",
       "0    Câmera Canon               999.99  Dólar     5.5584           4999.95   \n",
       "1   Carro Renault              4500.00   Euro     6.0000          27000.00   \n",
       "2   Notebook Dell               899.99  Dólar     5.5584           4499.95   \n",
       "3          Iphone               799.00  Dólar     5.5584           3995.00   \n",
       "4      Carro Fiat              3000.00   Euro     6.0000          18000.00   \n",
       "5  Celular Xiaomi               480.48  Dólar     5.5584           2402.40   \n",
       "6        Joia 20g                20.00   Ouro  3550.0000           7000.00   \n",
       "\n",
       "   Ajuste  Preço Final  \n",
       "0    1.40     6999.930  \n",
       "1    2.00    54000.000  \n",
       "2    1.70     7649.915  \n",
       "3    1.70     6791.500  \n",
       "4    1.90    34200.000  \n",
       "5    2.00     4804.800  \n",
       "6    1.15     8050.000  "
      ]
     },
     "metadata": {},
     "output_type": "display_data"
    }
   ],
   "source": [
    "# passo 1: atualizar as cotações\n",
    "\n",
    "tabela_produtos.loc[tabela_produtos[\"Moeda\"]== \"Dólar\", \"Cotação\"] = float(cotacao_dolar)\n",
    "\n",
    "# passo 2: atualizar o preço base reais -> cotação * preço base original\n",
    "\n",
    "# passo 3: atualizar o preço final -> preço base reais * ajuste\n",
    "\n",
    "display(tabela_produtos)"
   ]
  },
  {
   "cell_type": "code",
   "execution_count": null,
   "id": "f06e68e8",
   "metadata": {},
   "outputs": [],
   "source": []
  }
 ],
 "metadata": {
  "kernelspec": {
   "display_name": "Python 3",
   "language": "python",
   "name": "python3"
  },
  "language_info": {
   "codemirror_mode": {
    "name": "ipython",
    "version": 3
   },
   "file_extension": ".py",
   "mimetype": "text/x-python",
   "name": "python",
   "nbconvert_exporter": "python",
   "pygments_lexer": "ipython3",
   "version": "3.8.8"
  }
 },
 "nbformat": 4,
 "nbformat_minor": 5
}
